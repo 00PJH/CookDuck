{
 "cells": [
  {
   "cell_type": "code",
   "execution_count": 1,
   "id": "c6c1cb77",
   "metadata": {},
   "outputs": [],
   "source": [
    "import pandas as pd\n",
    "import os\n",
    "import glob"
   ]
  },
  {
   "cell_type": "code",
   "execution_count": 9,
   "id": "6649bcc6",
   "metadata": {},
   "outputs": [
    {
     "name": "stdout",
     "output_type": "stream",
     "text": [
      "## 1. 데이터 준비 시작\n"
     ]
    },
    {
     "name": "stderr",
     "output_type": "stream",
     "text": [
      "/home/pjh/work-space/cookDuck_llama/.venv/lib/python3.10/site-packages/openpyxl/styles/stylesheet.py:237: UserWarning: Workbook contains no default style, apply openpyxl's default\n",
      "  warn(\"Workbook contains no default style, apply openpyxl's default\")\n",
      "/home/pjh/work-space/cookDuck_llama/.venv/lib/python3.10/site-packages/openpyxl/styles/stylesheet.py:237: UserWarning: Workbook contains no default style, apply openpyxl's default\n",
      "  warn(\"Workbook contains no default style, apply openpyxl's default\")\n",
      "/home/pjh/work-space/cookDuck_llama/.venv/lib/python3.10/site-packages/openpyxl/styles/stylesheet.py:237: UserWarning: Workbook contains no default style, apply openpyxl's default\n",
      "  warn(\"Workbook contains no default style, apply openpyxl's default\")\n",
      "/home/pjh/work-space/cookDuck_llama/.venv/lib/python3.10/site-packages/openpyxl/styles/stylesheet.py:237: UserWarning: Workbook contains no default style, apply openpyxl's default\n",
      "  warn(\"Workbook contains no default style, apply openpyxl's default\")\n"
     ]
    },
    {
     "name": "stdout",
     "output_type": "stream",
     "text": [
      "                           source                                       target\n",
      "0        그녀가 할 수 있는 것은 우는 것이었습니다.                    All she could do was cry.\n",
      "1     그야말로 피카소가 울고 갈 만한 작품이 쏟아졌다.  Artworks enough to outshine Picasso poured.\n",
      "2      내가 나에게 계속 해오고 있는 말이기 때문이다.                 Because I keep saying to me.\n",
      "3  나이가 든다는 것은 쓸모가 사라진다는 의미가 아니었다.         Being old didn't mean being useless.\n",
      "4      두 사람은 모두 신앙심이 깊은 것으로 알려졌다.              Both are known to be religious.\n",
      "## 1. 데이터 준비 완료\n"
     ]
    }
   ],
   "source": [
    "try:\n",
    "    print(\"## 1. 데이터 준비 시작\")\n",
    "    folder_path = 'translation_korean_to_english_data/'\n",
    "    if not os.path.exists(folder_path):\n",
    "        raise FileNotFoundError(f'지정된 폴더 경로가 존재하지 않습니다: {folder_path}')\n",
    "    file_paths = glob.glob(os.path.join(folder_path, '*.xlsx'))\n",
    "    if not file_paths:\n",
    "        raise FileNotFoundError(f'폴더에 .xlsx 파일이 없습니다: {folder_path}')\n",
    "    dataframes = []\n",
    "    for file in file_paths:\n",
    "        df = pd.read_excel(file,\n",
    "                           converters={'원문': str, '번역문': str},\n",
    "                           engine='openpyxl')\n",
    "        if '원문' in df.columns and '번역문' in df.columns:\n",
    "            df = df[['원문', '번역문']]\n",
    "            dataframes.append(df)\n",
    "        else:\n",
    "            print(f\"파일 {file}에서 '원문' 또는 '번역문' 열을 찾을 수 없습니다.\")\n",
    "    if dataframes:\n",
    "        merged_data = pd.concat(dataframes, ignore_index=True)\n",
    "        merged_data = merged_data.rename(columns={\"원문\": \"source\", \"번역문\": \"target\"})\n",
    "        print(merged_data.head())\n",
    "    else:\n",
    "        raise ValueError(\"결합할 데이터가 없습니다.\")\n",
    "    print(\"## 1. 데이터 준비 완료\")\n",
    "except Exception as e:\n",
    "    print(f\"## 1. 데이터 준비 실패: {type(e).__name__} – {e}\")\n",
    "    raise"
   ]
  },
  {
   "cell_type": "code",
   "execution_count": 11,
   "id": "a4d0a649",
   "metadata": {},
   "outputs": [
    {
     "data": {
      "text/html": [
       "<div>\n",
       "<style scoped>\n",
       "    .dataframe tbody tr th:only-of-type {\n",
       "        vertical-align: middle;\n",
       "    }\n",
       "\n",
       "    .dataframe tbody tr th {\n",
       "        vertical-align: top;\n",
       "    }\n",
       "\n",
       "    .dataframe thead th {\n",
       "        text-align: right;\n",
       "    }\n",
       "</style>\n",
       "<table border=\"1\" class=\"dataframe\">\n",
       "  <thead>\n",
       "    <tr style=\"text-align: right;\">\n",
       "      <th></th>\n",
       "      <th>target</th>\n",
       "      <th>source</th>\n",
       "    </tr>\n",
       "  </thead>\n",
       "  <tbody>\n",
       "    <tr>\n",
       "      <th>0</th>\n",
       "      <td>All she could do was cry.</td>\n",
       "      <td>그녀가 할 수 있는 것은 우는 것이었습니다.</td>\n",
       "    </tr>\n",
       "    <tr>\n",
       "      <th>1</th>\n",
       "      <td>Artworks enough to outshine Picasso poured.</td>\n",
       "      <td>그야말로 피카소가 울고 갈 만한 작품이 쏟아졌다.</td>\n",
       "    </tr>\n",
       "    <tr>\n",
       "      <th>2</th>\n",
       "      <td>Because I keep saying to me.</td>\n",
       "      <td>내가 나에게 계속 해오고 있는 말이기 때문이다.</td>\n",
       "    </tr>\n",
       "    <tr>\n",
       "      <th>3</th>\n",
       "      <td>Being old didn't mean being useless.</td>\n",
       "      <td>나이가 든다는 것은 쓸모가 사라진다는 의미가 아니었다.</td>\n",
       "    </tr>\n",
       "    <tr>\n",
       "      <th>4</th>\n",
       "      <td>Both are known to be religious.</td>\n",
       "      <td>두 사람은 모두 신앙심이 깊은 것으로 알려졌다.</td>\n",
       "    </tr>\n",
       "  </tbody>\n",
       "</table>\n",
       "</div>"
      ],
      "text/plain": [
       "                                        target                          source\n",
       "0                    All she could do was cry.        그녀가 할 수 있는 것은 우는 것이었습니다.\n",
       "1  Artworks enough to outshine Picasso poured.     그야말로 피카소가 울고 갈 만한 작품이 쏟아졌다.\n",
       "2                 Because I keep saying to me.      내가 나에게 계속 해오고 있는 말이기 때문이다.\n",
       "3         Being old didn't mean being useless.  나이가 든다는 것은 쓸모가 사라진다는 의미가 아니었다.\n",
       "4              Both are known to be religious.      두 사람은 모두 신앙심이 깊은 것으로 알려졌다."
      ]
     },
     "execution_count": 11,
     "metadata": {},
     "output_type": "execute_result"
    }
   ],
   "source": [
    "merged_data = merged_data[['target', 'source']]\n",
    "merged_data.head()"
   ]
  },
  {
   "cell_type": "code",
   "execution_count": 12,
   "id": "26a97985",
   "metadata": {},
   "outputs": [],
   "source": [
    "merged_data['inputs'] = \"\""
   ]
  },
  {
   "cell_type": "code",
   "execution_count": 1,
   "id": "31d9dbba",
   "metadata": {},
   "outputs": [
    {
     "ename": "NameError",
     "evalue": "name 'merged_data' is not defined",
     "output_type": "error",
     "traceback": [
      "\u001b[0;31m---------------------------------------------------------------------------\u001b[0m",
      "\u001b[0;31mNameError\u001b[0m                                 Traceback (most recent call last)",
      "Cell \u001b[0;32mIn[1], line 1\u001b[0m\n\u001b[0;32m----> 1\u001b[0m merged_data \u001b[38;5;241m=\u001b[39m \u001b[43mmerged_data\u001b[49m\u001b[38;5;241m.\u001b[39mrename(columns\u001b[38;5;241m=\u001b[39m{\n\u001b[1;32m      2\u001b[0m    \n\u001b[1;32m      3\u001b[0m     \u001b[38;5;124m'\u001b[39m\u001b[38;5;124minputs\u001b[39m\u001b[38;5;124m'\u001b[39m: \u001b[38;5;124m'\u001b[39m\u001b[38;5;124minput\u001b[39m\u001b[38;5;124m'\u001b[39m\n\u001b[1;32m      4\u001b[0m })\n",
      "\u001b[0;31mNameError\u001b[0m: name 'merged_data' is not defined"
     ]
    }
   ],
   "source": [
    "merged_data = merged_data.rename(columns={\n",
    "   \n",
    "    'inputs': 'input'\n",
    "})"
   ]
  },
  {
   "cell_type": "code",
   "execution_count": 2,
   "id": "c838b7d5",
   "metadata": {},
   "outputs": [],
   "source": [
    "df_data = pd.read_csv(\"translation_korean_to_english_data/en_to_ko.csv\")"
   ]
  },
  {
   "cell_type": "code",
   "execution_count": 3,
   "id": "3eafcd10",
   "metadata": {},
   "outputs": [
    {
     "data": {
      "text/html": [
       "<div>\n",
       "<style scoped>\n",
       "    .dataframe tbody tr th:only-of-type {\n",
       "        vertical-align: middle;\n",
       "    }\n",
       "\n",
       "    .dataframe tbody tr th {\n",
       "        vertical-align: top;\n",
       "    }\n",
       "\n",
       "    .dataframe thead th {\n",
       "        text-align: right;\n",
       "    }\n",
       "</style>\n",
       "<table border=\"1\" class=\"dataframe\">\n",
       "  <thead>\n",
       "    <tr style=\"text-align: right;\">\n",
       "      <th></th>\n",
       "      <th>english</th>\n",
       "      <th>korean</th>\n",
       "    </tr>\n",
       "  </thead>\n",
       "  <tbody>\n",
       "    <tr>\n",
       "      <th>0</th>\n",
       "      <td>All she could do was cry.</td>\n",
       "      <td>그녀가 할 수 있는 것은 우는 것이었습니다.</td>\n",
       "    </tr>\n",
       "    <tr>\n",
       "      <th>1</th>\n",
       "      <td>Artworks enough to outshine Picasso poured.</td>\n",
       "      <td>그야말로 피카소가 울고 갈 만한 작품이 쏟아졌다.</td>\n",
       "    </tr>\n",
       "    <tr>\n",
       "      <th>2</th>\n",
       "      <td>Because I keep saying to me.</td>\n",
       "      <td>내가 나에게 계속 해오고 있는 말이기 때문이다.</td>\n",
       "    </tr>\n",
       "    <tr>\n",
       "      <th>3</th>\n",
       "      <td>Being old didn't mean being useless.</td>\n",
       "      <td>나이가 든다는 것은 쓸모가 사라진다는 의미가 아니었다.</td>\n",
       "    </tr>\n",
       "    <tr>\n",
       "      <th>4</th>\n",
       "      <td>Both are known to be religious.</td>\n",
       "      <td>두 사람은 모두 신앙심이 깊은 것으로 알려졌다.</td>\n",
       "    </tr>\n",
       "  </tbody>\n",
       "</table>\n",
       "</div>"
      ],
      "text/plain": [
       "                                       english                          korean\n",
       "0                    All she could do was cry.        그녀가 할 수 있는 것은 우는 것이었습니다.\n",
       "1  Artworks enough to outshine Picasso poured.     그야말로 피카소가 울고 갈 만한 작품이 쏟아졌다.\n",
       "2                 Because I keep saying to me.      내가 나에게 계속 해오고 있는 말이기 때문이다.\n",
       "3         Being old didn't mean being useless.  나이가 든다는 것은 쓸모가 사라진다는 의미가 아니었다.\n",
       "4              Both are known to be religious.      두 사람은 모두 신앙심이 깊은 것으로 알려졌다."
      ]
     },
     "execution_count": 3,
     "metadata": {},
     "output_type": "execute_result"
    }
   ],
   "source": [
    "df_data.head()"
   ]
  },
  {
   "cell_type": "code",
   "execution_count": 9,
   "id": "5009d958",
   "metadata": {},
   "outputs": [],
   "source": [
    "df_data.to_csv('translation_korean_to_english_data/en_to_ko.csv', index=False, encoding='utf-8-sig')\n"
   ]
  },
  {
   "cell_type": "code",
   "execution_count": null,
   "id": "0904ac1d",
   "metadata": {},
   "outputs": [],
   "source": [
    "import pandas as pd\n",
    "\n",
    "# CSV 읽기\n",
    "df = pd.read_csv(\"translation_korean_to_english_data/en_to_ko.csv\")\n",
    "\n",
    "# 랜덤 섞기\n",
    "df = df.sample(frac=1, random_state=42).reset_index(drop=True)\n",
    "\n",
    "# 상위 30000개만 사용\n",
    "df = df.iloc[:30000]\n",
    "\n",
    "# 다시 저장\n",
    "df.to_csv(\"translation_korean_to_english_data/en_to_ko_shuffle_small_30k.csv\", index=False)\n"
   ]
  },
  {
   "cell_type": "code",
   "execution_count": 7,
   "id": "662f3d6b",
   "metadata": {},
   "outputs": [
    {
     "data": {
      "text/plain": [
       "70000"
      ]
     },
     "execution_count": 7,
     "metadata": {},
     "output_type": "execute_result"
    }
   ],
   "source": [
    "len(df)"
   ]
  },
  {
   "cell_type": "code",
   "execution_count": 1,
   "id": "1a576a71",
   "metadata": {},
   "outputs": [],
   "source": [
    "import pandas as pd\n",
    "\n",
    "# CSV 읽기\n",
    "df = pd.read_csv(\"translation_korean_to_english_data/en_to_ko.csv\")\n",
    "\n",
    "# 랜덤 섞기\n",
    "df = df.sample(frac=1, random_state=42).reset_index(drop=True)\n",
    "\n",
    "# 상위 30000개만 사용\n",
    "df = df.iloc[:1000]\n",
    "\n",
    "# 다시 저장\n",
    "df.to_csv(\"translation_korean_to_english_data/en_to_ko_shuffle_small_1k.csv\", index=False)\n"
   ]
  },
  {
   "cell_type": "code",
   "execution_count": 1,
   "id": "5bb9eb1d",
   "metadata": {},
   "outputs": [
    {
     "data": {
      "text/html": [
       "<div>\n",
       "<style scoped>\n",
       "    .dataframe tbody tr th:only-of-type {\n",
       "        vertical-align: middle;\n",
       "    }\n",
       "\n",
       "    .dataframe tbody tr th {\n",
       "        vertical-align: top;\n",
       "    }\n",
       "\n",
       "    .dataframe thead th {\n",
       "        text-align: right;\n",
       "    }\n",
       "</style>\n",
       "<table border=\"1\" class=\"dataframe\">\n",
       "  <thead>\n",
       "    <tr style=\"text-align: right;\">\n",
       "      <th></th>\n",
       "      <th>english</th>\n",
       "      <th>korean</th>\n",
       "    </tr>\n",
       "  </thead>\n",
       "  <tbody>\n",
       "    <tr>\n",
       "      <th>0</th>\n",
       "      <td>The Committee shall convene meetings where dee...</td>\n",
       "      <td>위원회의 회의는 위원장이 필요하다고 인정하는 경우에 이를 소집한다.</td>\n",
       "    </tr>\n",
       "    <tr>\n",
       "      <th>1</th>\n",
       "      <td>Gyeonggi Provincial Government will recruit us...</td>\n",
       "      <td>경기도가 25일부터 31일까지 2013 지역사회서비스 투자사업바우처(사회서비스이용권...</td>\n",
       "    </tr>\n",
       "    <tr>\n",
       "      <th>2</th>\n",
       "      <td>We have searched the way to deal with Product ...</td>\n",
       "      <td>우리는 고객의 요구사항을 최대한 맞추기 위해, B 제품을 작업할 방법을 모색했습니다.</td>\n",
       "    </tr>\n",
       "    <tr>\n",
       "      <th>3</th>\n",
       "      <td>Sindongje, where festival will be held, is the...</td>\n",
       "      <td>축제가 열리는 신동재 일원은 대략 330만㎡에 이르는 거대한 아카시아 군락지로 지금...</td>\n",
       "    </tr>\n",
       "    <tr>\n",
       "      <th>4</th>\n",
       "      <td>We need to be alert instead of taking it light...</td>\n",
       "      <td>일시적 현상이라고 가볍게 넘기지 말고 경각심을 가질 필요가 있다.</td>\n",
       "    </tr>\n",
       "    <tr>\n",
       "      <th>...</th>\n",
       "      <td>...</td>\n",
       "      <td>...</td>\n",
       "    </tr>\n",
       "    <tr>\n",
       "      <th>29995</th>\n",
       "      <td>If you show me your boarding pass I will help ...</td>\n",
       "      <td>승객님의 탑승권을 보여주시면 좌석 안내 도와드리겠습니다.</td>\n",
       "    </tr>\n",
       "    <tr>\n",
       "      <th>29996</th>\n",
       "      <td>In any of the following cases, an institution ...</td>\n",
       "      <td>전문매각기관은 다음 각 호의 어느 하나에 해당하는 경우 구청장에게 매각대행 의뢰를 ...</td>\n",
       "    </tr>\n",
       "    <tr>\n",
       "      <th>29997</th>\n",
       "      <td>Walk Disney shared the scenario with the coope...</td>\n",
       "      <td>월트 디즈니는 이 시나리오를 디즈니 애니메이션 회사 동업자인 아이윅스에 보여주었고 ...</td>\n",
       "    </tr>\n",
       "    <tr>\n",
       "      <th>29998</th>\n",
       "      <td>As Oh Ban-suk moved to another team, there was...</td>\n",
       "      <td>오반석의 이적과 함께 제주는 수비에 구멍이 생겼다.</td>\n",
       "    </tr>\n",
       "    <tr>\n",
       "      <th>29999</th>\n",
       "      <td>The health examination is for free and in case...</td>\n",
       "      <td>건강검진은 수납이 없고, 혹시나 담당 선생님께 진료를 받으시면 수납을 하셔야 해요.</td>\n",
       "    </tr>\n",
       "  </tbody>\n",
       "</table>\n",
       "<p>30000 rows × 2 columns</p>\n",
       "</div>"
      ],
      "text/plain": [
       "                                                 english  \\\n",
       "0      The Committee shall convene meetings where dee...   \n",
       "1      Gyeonggi Provincial Government will recruit us...   \n",
       "2      We have searched the way to deal with Product ...   \n",
       "3      Sindongje, where festival will be held, is the...   \n",
       "4      We need to be alert instead of taking it light...   \n",
       "...                                                  ...   \n",
       "29995  If you show me your boarding pass I will help ...   \n",
       "29996  In any of the following cases, an institution ...   \n",
       "29997  Walk Disney shared the scenario with the coope...   \n",
       "29998  As Oh Ban-suk moved to another team, there was...   \n",
       "29999  The health examination is for free and in case...   \n",
       "\n",
       "                                                  korean  \n",
       "0                  위원회의 회의는 위원장이 필요하다고 인정하는 경우에 이를 소집한다.  \n",
       "1      경기도가 25일부터 31일까지 2013 지역사회서비스 투자사업바우처(사회서비스이용권...  \n",
       "2        우리는 고객의 요구사항을 최대한 맞추기 위해, B 제품을 작업할 방법을 모색했습니다.  \n",
       "3      축제가 열리는 신동재 일원은 대략 330만㎡에 이르는 거대한 아카시아 군락지로 지금...  \n",
       "4                   일시적 현상이라고 가볍게 넘기지 말고 경각심을 가질 필요가 있다.  \n",
       "...                                                  ...  \n",
       "29995                    승객님의 탑승권을 보여주시면 좌석 안내 도와드리겠습니다.  \n",
       "29996  전문매각기관은 다음 각 호의 어느 하나에 해당하는 경우 구청장에게 매각대행 의뢰를 ...  \n",
       "29997  월트 디즈니는 이 시나리오를 디즈니 애니메이션 회사 동업자인 아이윅스에 보여주었고 ...  \n",
       "29998                       오반석의 이적과 함께 제주는 수비에 구멍이 생겼다.  \n",
       "29999     건강검진은 수납이 없고, 혹시나 담당 선생님께 진료를 받으시면 수납을 하셔야 해요.  \n",
       "\n",
       "[30000 rows x 2 columns]"
      ]
     },
     "execution_count": 1,
     "metadata": {},
     "output_type": "execute_result"
    }
   ],
   "source": [
    "# 대화체 변환.\n",
    "import pandas as pd\n",
    "\n",
    "# CSV 읽기\n",
    "df = pd.read_csv(\"translation_korean_to_english_data/en_to_ko_shuffle_small_30k.csv\")\n",
    "\n",
    "df\n",
    "\n",
    "\n",
    "\n",
    "\n",
    "\n"
   ]
  },
  {
   "cell_type": "code",
   "execution_count": null,
   "id": "59c3d214",
   "metadata": {},
   "outputs": [],
   "source": [
    "try:\n",
    "    print(\"## 1. 데이터 준비 시작\")\n",
    "    folder_path = 'translation_korean_to_english_data/'\n",
    "    if not os.path.exists(folder_path):\n",
    "        raise FileNotFoundError(f'지정된 폴더 경로가 존재하지 않습니다: {folder_path}')\n",
    "    file_paths = glob.glob(os.path.join(folder_path, '*.xlsx'))\n",
    "    if not file_paths:\n",
    "        raise FileNotFoundError(f'폴더에 .xlsx 파일이 없습니다: {folder_path}')\n",
    "    dataframes = []\n",
    "    for file in file_paths:\n",
    "        df = pd.read_excel(file,\n",
    "                           converters={'원문': str, '번역문': str},\n",
    "                           engine='openpyxl')\n",
    "        if '원문' in df.columns and '번역문' in df.columns:\n",
    "            df = df[['원문', '번역문']]\n",
    "            dataframes.append(df)\n",
    "        else:\n",
    "            print(f\"파일 {file}에서 '원문' 또는 '번역문' 열을 찾을 수 없습니다.\")\n",
    "    if dataframes:\n",
    "        merged_data = pd.concat(dataframes, ignore_index=True)\n",
    "        merged_data = merged_data.rename(columns={\"원문\": \"source\", \"번역문\": \"target\"})\n",
    "        print(merged_data.head())\n",
    "    else:\n",
    "        raise ValueError(\"결합할 데이터가 없습니다.\")\n",
    "    print(\"## 1. 데이터 준비 완료\")\n",
    "except Exception as e:\n",
    "    print(f\"## 1. 데이터 준비 실패: {type(e).__name__} – {e}\")\n",
    "    raise"
   ]
  }
 ],
 "metadata": {
  "kernelspec": {
   "display_name": ".venv",
   "language": "python",
   "name": "python3"
  },
  "language_info": {
   "codemirror_mode": {
    "name": "ipython",
    "version": 3
   },
   "file_extension": ".py",
   "mimetype": "text/x-python",
   "name": "python",
   "nbconvert_exporter": "python",
   "pygments_lexer": "ipython3",
   "version": "3.10.12"
  }
 },
 "nbformat": 4,
 "nbformat_minor": 5
}
